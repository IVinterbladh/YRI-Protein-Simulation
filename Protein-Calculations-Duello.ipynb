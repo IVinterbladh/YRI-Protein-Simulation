{
 "cells": [
  {
   "cell_type": "markdown",
   "metadata": {},
   "source": [
    "# Simulation of Protein-Protein interactions"
   ]
  },
  {
   "cell_type": "code",
   "execution_count": null,
   "metadata": {},
   "outputs": [],
   "source": [
    "### Import all packages needed\n",
    "import matplotlib.pyplot as plt\n",
    "import os.path, os\n",
    "from jinja2 import Template\n",
    "import ruamel_yaml as yaml\n",
    "import numpy as np\n",
    "import json\n",
    "import pandas as pd\n",
    "import MDAnalysis as mda\n",
    "import nglview as nv\n",
    "%matplotlib inline\n",
    "\n",
    "### Define the working directory and the Faunus directory\n",
    "workdir = '/Users/isabelvinterbladh/Documents/YRI-Talk/' # Change to your working directory\n",
    "faunusdir = '/Users/isabelvinterbladh/Documents/faunus' # Change to your Faunus directory or use faunusdir = os.getcwd() if you are in the Faunus from Conda\n",
    "\n",
    "### Go to the working directory\n",
    "%cd -q $workdir\n",
    "\n"
   ]
  },
  {
   "cell_type": "markdown",
   "metadata": {},
   "source": [
    "## Faunus - Monte Carlo simulation software"
   ]
  },
  {
   "cell_type": "code",
   "execution_count": null,
   "metadata": {},
   "outputs": [],
   "source": [
    "def makeFaunusInput(outfile, **kwargs):\n",
    "    ''' generate faunus input file from Jinja2 template '''\n",
    "    with open('template.yml', 'r') as file: # this is the template file\n",
    "        template = Template(file.read())\n",
    "        Cs = kwargs['Cs']\n",
    "        pH = kwargs['pH']\n",
    "        dirname = f'Cs{Cs}pH{pH}'\n",
    "        if not os.path.isdir(dirname):\n",
    "            os.makedirs(dirname)\n",
    "        with open(f'Cs{Cs}pH{pH}/' + outfile, 'w') as f:   # open a new faunus input file\n",
    "            inputstr = template.render(kwargs)\n",
    "            d = yaml.safe_load(StringIO(inputstr)) # convert string to stream\n",
    "            f.write(yaml.dump(d))"
   ]
  },
  {
   "cell_type": "code",
   "execution_count": null,
   "metadata": {},
   "outputs": [],
   "source": [
    "salt_conc = 0.05  # Molar\n",
    "pH = 5.5\n",
    "steps_eq= 100   \n",
    "steps_run = 5000\n",
    "file = '../2hiu.xyz'\n",
    "\n",
    "%cd -q $workdir\n",
    "makeFaunusInput('eq.yml', Cs = salt_conc, pH = pH, structure = file, micro = steps_eq)  # equilibration\n",
    "makeFaunusInput('input.yml', Cs = salt_conc, pH = pH, structure = file, micro = steps_run) # production"
   ]
  },
  {
   "cell_type": "code",
   "execution_count": null,
   "metadata": {},
   "outputs": [],
   "source": [
    "def run_simulation(dir, runeq=True):\n",
    "    %cd $dir\n",
    "    if runeq: \n",
    "        print('Running equilibration...')\n",
    "        !yason.py eq.yml | faunus -v6 -o eqout.json > eq.log\n",
    "    print('Running production...')\n",
    "    !yason.py input.yml | faunus -v6 -s state.json > run.log"
   ]
  },
  {
   "cell_type": "code",
   "execution_count": null,
   "metadata": {},
   "outputs": [],
   "source": [
    "%cd $workdir\n",
    "run_simulation('Cs0.05pH5.5', True)"
   ]
  },
  {
   "cell_type": "code",
   "execution_count": null,
   "metadata": {},
   "outputs": [],
   "source": [
    "%cd $workdir/Cs0.05pH5.5\n",
    "step, q, avg = np.loadtxt('q.dat.gz', unpack=True)\n",
    "qmin = q.min()\n",
    "qmax = q.max()\n",
    "plt.hist(q, bins=20)\n",
    "plt.xlim(qmin-0.1,qmax+0.1)\n",
    "plt.xlabel('particle charge')\n",
    "plt.ylabel('count')\n",
    "print(\"average charge = {:.2f} (expecting {:.2f})\".format(q.mean(), 0.5*(qmax-qmin)+qmin ))"
   ]
  },
  {
   "cell_type": "code",
   "execution_count": null,
   "metadata": {},
   "outputs": [],
   "source": [
    "R, exact, total, ionion, iondip, dipdip, ionquad, mucorr = np.loadtxt('multipole.dat', unpack=True, skiprows=2)\n",
    "lw=2\n",
    "plt.plot(R, ionion, label='ion-ion', lw=lw)\n",
    "plt.plot(R, iondip, label='ion-dipole', lw=lw)\n",
    "plt.plot(R, dipdip, label='dipole-dipole', lw=lw)\n",
    "plt.plot(R, ionquad, label='ion-quadrupole', lw=lw)\n",
    "plt.plot(R, total, label='sum of multipoles', lw=lw)\n",
    "plt.plot(R, exact, 'ko', label='exact', ms=2)\n",
    "plt.xlabel('separation (Å)')\n",
    "plt.ylabel('energy ($kT/\\lambda_B$)')\n",
    "plt.legend(loc=0, frameon=False)\n",
    "plt.savefig('multipole.png', bbox_inches='tight')\n"
   ]
  },
  {
   "cell_type": "code",
   "execution_count": null,
   "metadata": {},
   "outputs": [],
   "source": [
    "mp = {\"exact\": [], \"sum of multipoles\": [], \"ion-ion\": [], \"ion-dipole\": [], \"dipole-dipole\": [], \"ion-quadrupole\": []}\n",
    "\n",
    "\n",
    "R, exact, tot, ii, id, dd, iq, mucorr = np.loadtxt('multipole.dat', unpack=True, skiprows=2)\n",
    "rmin = R[np.argmin(exact)]\n",
    "mask = (R == rmin)\n",
    "mp['exact'].append( exact[mask] )\n",
    "mp['sum of multipoles'].append( tot[mask] )\n",
    "mp['ion-ion'].append( ii[mask] )\n",
    "mp['ion-dipole'].append( id[mask] )\n",
    "mp['dipole-dipole'].append( dd[mask] )\n",
    "mp['ion-quadrupole'].append( iq[mask] )\n",
    "print(mp)\n",
    "\n",
    "exact = mp['exact'][0][0]\n",
    "contributions = {}\n",
    "sum_of_multipoles = 0\n",
    "for name, energies in mp.items():\n",
    "    if name == 'exact' or name == 'sum of multipoles':\n",
    "        continue\n",
    "    percentage = np.abs(energies[0][0] / exact) * 100 # use the lowest salt concentration, index 0"
   ]
  },
  {
   "cell_type": "code",
   "execution_count": null,
   "metadata": {},
   "outputs": [],
   "source": [
    "# Load topology and trajectory\n",
    "u = mda.Universe(\"confout.xyz\", \"traj.xtc\")\n",
    "\n",
    "# Show interactive visualization\n",
    "view = nv.show_mdanalysis(u)\n",
    "\n",
    "view.animate = True  # Enable animation\n",
    "view\n",
    "\n"
   ]
  },
  {
   "cell_type": "markdown",
   "metadata": {},
   "source": [
    "## Duello - fast calculation of protein interactions\n",
    "\n",
    "Duello can calculate the potential of mean force (PMF) between two rigid bodies (example protein). This is done by performing a statistical mechanical average over inter-molecular orientations using subdivided icosahedrons. For each mass center separation, R, the static contribution to the partition function is explicitly evaluated to obtain the potential of mean force and the thermally averaged energy. From this the the osmotic second virial coefficient, $B_2$ and for systems with net attractive interactions, the dissociation constant, K d , can be estimated.\n",
    "More information see: github/mlund/duello (tba)\n",
    "\n"
   ]
  },
  {
   "cell_type": "code",
   "execution_count": 89,
   "metadata": {},
   "outputs": [],
   "source": [
    "### Change the following variables to match your system\n",
    "\n",
    "xyz_file = \"2hiu_duello.xyz\"   # The name of the xyz file\n",
    "name = \"2hiu\"                  # What you want to call the output files \n",
    "molarity = \"0.1\"               # The molarity of the ionic strength in the system\n",
    "temp = \"298\"                   # The temperature of the system\n",
    "\n",
    "resolution = 1.0               # The resolution of the PMF - smaller resolution higher accuracy -> longer runtime\n",
    "rmin = 5                       # The minimum distance for the PMF - depends on the protein size - approx. protein radius\n",
    "rmax = 55                      # The maximum distance for the PMF - depends on the protein size\n",
    "dr = 1.0                       # The distance between each bin in the PMF - smaller dr higher accuracy -> longer runtime"
   ]
  },
  {
   "cell_type": "code",
   "execution_count": 90,
   "metadata": {},
   "outputs": [
    {
     "name": "stdout",
     "output_type": "stream",
     "text": [
      "done.\n"
     ]
    }
   ],
   "source": [
    "### Command for the duello scan calculation\n",
    "\n",
    "command = f\"/Users/isabelvinterbladh/Documents/YRI-Talk/rust/duello/target/release/duello scan \\\n",
    "-1 {xyz_file} \\\n",
    "-2 {xyz_file} \\\n",
    "--rmin {rmin} --rmax {rmax} --dr {dr} \\\n",
    "--top topology.yaml \\\n",
    "--resolution {resolution}\\\n",
    "--cutoff 1000 \\\n",
    "--molarity {molarity} \\\n",
    "--temperature {temp} \\\n",
    "--pmf {name}-pmf.dat \\\n",
    "&> {name}.log\"\n",
    "\n",
    "# Run the command using the ! syntax\n",
    "!{command}\n",
    "\n",
    "print(\"done.\")"
   ]
  },
  {
   "cell_type": "code",
   "execution_count": 91,
   "metadata": {},
   "outputs": [],
   "source": [
    "### Command to extract values from the duello output\n",
    "\n",
    "def extract(jsom_file):\n",
    "    db = dict(B2 = [], B2_HS = [], B2_red = [], kD = [])    \n",
    "    with open(jsom_file, \"r\") as file:\n",
    "        data = json.load(file)\n",
    "        b2 = data[\"B2\"]\n",
    "        db[\"B2\"].append(b2)\n",
    "        b2_hs = data[\"B2_hs\"]\n",
    "        db[\"B2_HS\"].append(b2_hs)\n",
    "        b2_reduced = data[\"B2_reduced\"]\n",
    "        db[\"B2_red\"].append(b2_reduced)\n",
    "        if \"kD\" in data:\n",
    "            db[\"kD\"].append(data[\"kD\"] * 1000)\n",
    "        else:\n",
    "            db[\"kD\"].append(float('nan'))\n",
    "    return pd.DataFrame(db).rename(columns={\"kD\": \"𝐾𝑑/mM\", \"B2_red\": \"𝐵₂/𝐵₂hs\", \"B2_HS\": \"𝐵₂hs\", \"B2\": \"𝐵₂\"})"
   ]
  },
  {
   "cell_type": "code",
   "execution_count": 92,
   "metadata": {},
   "outputs": [
    {
     "name": "stdout",
     "output_type": "stream",
     "text": [
      "            𝐵₂          𝐵₂hs   𝐵₂/𝐵₂hs      𝐾𝑑/mM\n",
      "0 -1216.745977  10289.763138 -0.118248  72.156509\n"
     ]
    },
    {
     "data": {
      "image/png": "[encoded data removed]",
      "text/plain": [
       "<Figure size 640x480 with 1 Axes>"
      ]
     },
     "metadata": {},
     "output_type": "display_data"
    }
   ],
   "source": [
    "print(extract(f\"{name}-pmf.json\"))\n",
    "\n",
    "r, w, u, c = np.loadtxt(f\"{name}-pmf.dat\", unpack=True)\n",
    "plt.plot(r/10, u, label=f'{name}', lw=3, alpha=0.8)\n",
    "#plt.plot(r/10, np.cumsum(c * np.exp(-w) * (r/10)**2), lw=3, alpha=0.8)\n",
    "plt.legend(loc=0, frameon=False)\n",
    "\n",
    "plt.ylim(-10, 10)\n",
    "plt.xlabel(\"Mass center separation (nm)\")\n",
    "plt.ylabel(\"Potential of mean force ($k_BT$)\")\n",
    "plt.show()"
   ]
  },
  {
   "cell_type": "code",
   "execution_count": null,
   "metadata": {},
   "outputs": [],
   "source": []
  }
 ],
 "metadata": {
  "kernelspec": {
   "display_name": "betalac",
   "language": "python",
   "name": "python3"
  },
  "language_info": {
   "codemirror_mode": {
    "name": "ipython",
    "version": 3
   },
   "file_extension": ".py",
   "mimetype": "text/x-python",
   "name": "python",
   "nbconvert_exporter": "python",
   "pygments_lexer": "ipython3",
   "version": "3.11.3"
  }
 },
 "nbformat": 4,
 "nbformat_minor": 2
}
