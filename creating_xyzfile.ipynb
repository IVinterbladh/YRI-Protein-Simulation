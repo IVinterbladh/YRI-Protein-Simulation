{
 "cells": [
  {
   "cell_type": "markdown",
   "metadata": {},
   "source": [
    "# Coarse-graining at amino acid level of all-atom structures"
   ]
  },
  {
   "cell_type": "code",
   "execution_count": 1,
   "metadata": {
    "tags": []
   },
   "outputs": [
    {
     "name": "stdout",
     "output_type": "stream",
     "text": [
      "/Users/isabelvinterbladh/Documents/YRI-Talk/YRI-Protein-Simulation\n"
     ]
    }
   ],
   "source": [
    "### Import all packages needed\n",
    "import mdtraj as md\n",
    "import numpy as np\n",
    "import os\n",
    "\n",
    "workdir = '/Users/isabelvinterbladh/Documents/YRI-Talk/YRI-Protein-Simulation' # Change to your working directory\n",
    "\n",
    "### Check what your working directory is (your current directory)\n",
    "!pwd\n",
    "### Copy the output from this cell to the workdir definition above"
   ]
  },
  {
   "cell_type": "code",
   "execution_count": 2,
   "metadata": {},
   "outputs": [
    {
     "name": "stdout",
     "output_type": "stream",
     "text": [
      "/Users/isabelvinterbladh/Documents/YRI-Talk/YRI-Protein-Simulation\n"
     ]
    }
   ],
   "source": [
    "### Go to the working directory\n",
    "%cd $workdir"
   ]
  },
  {
   "cell_type": "markdown",
   "metadata": {},
   "source": [
    "# Steps:\n",
    "\n",
    "1. Perform the CG at amino acid level\n",
    "2. Rename terminals \n",
    "3. If applicable - rename cysteine involved in disulfide bonds to avoid that they are titratable during simulation"
   ]
  },
  {
   "cell_type": "markdown",
   "metadata": {},
   "source": [
    "###  1. CG at amino acid level"
   ]
  },
  {
   "cell_type": "code",
   "execution_count": 3,
   "metadata": {},
   "outputs": [],
   "source": [
    "### Load complete pdb structure ###\n",
    "\n",
    "def CGfunc(traj, file_xyz):\n",
    "    amino_acids = ['ALA','ARG','ASN','ASP','CYS','GLN','GLU','GLY','HIS','ILE','LEU','LYS','MET','PHE','PRO','SER','THR','TRP','TYR','VAL']\n",
    "    num_amino_acids = sum(1 for res in traj.topology.residues if res.name in amino_acids)\n",
    "    num_chains = sum(1 for chain in traj.topology.chains if any(res.name in amino_acids for res in chain.residues))\n",
    "    print('')\n",
    "    print('The pdb structure contains '+str(traj.topology.n_atoms)+' atoms, '+str(num_amino_acids)+' amino acids, and '+str(num_chains)+' chains!')\n",
    "    print('Coarse graining at amino acid level ...')\n",
    "        \n",
    "    file = open(file_xyz, 'w')\n",
    "    file.write(str(num_amino_acids)+'\\n')\n",
    "    file.write('\\n')\n",
    "    for res in traj.topology.residues:    \n",
    "        cm = [0,0,0] # residue mass center\n",
    "        mw = 0       # residue weight\n",
    "        if res.name not in amino_acids:\n",
    "            continue\n",
    "        else:\n",
    "            for a in res.atoms:\n",
    "                cm = cm + a.element.mass * traj.xyz[0][a.index]\n",
    "                mw = mw + a.element.mass\n",
    "            cm = cm/mw*10\n",
    "            file.write('{0:4} {1:8.3f} {2:8.3f} {3:8.3f}\\n'.format(res.name, cm[0],cm[1],cm[2]))\n",
    "    file.close()\n",
    "    \n",
    "    print('Done !!!')\n",
    "    print('The xyz-file has been created!')"
   ]
  },
  {
   "cell_type": "markdown",
   "metadata": {},
   "source": [
    "### 2. Renaming the chain terminals/ends"
   ]
  },
  {
   "cell_type": "code",
   "execution_count": 4,
   "metadata": {},
   "outputs": [],
   "source": [
    "def fix_terminals(traj, file_xyz):\n",
    "    cterm = []\n",
    "    nterm = []\n",
    "    amino_acids = ['ALA','ARG','ASN','ASP','CYS','GLN','GLU','GLY','HIS','ILE','LEU','LYS','MET','PHE','PRO','SER','THR','TRP','TYR','VAL']\n",
    "\n",
    "    # Find the indices and amino acid names for the terminals\n",
    "    for chain in traj.topology.chains:\n",
    "        res_list = list(chain.residues)\n",
    "        if res_list[0].name not in amino_acids:\n",
    "            continue\n",
    "        else:\n",
    "            first = res_list[0].index, res_list[0].name \n",
    "            last = res_list[-1].index, res_list[-1].name \n",
    "            cterm.append(first)\n",
    "            nterm.append(last)  \n",
    "    file = open(file_xyz, 'r+') \n",
    "    lines = file.readlines() # Read the entire file into a list of lines\n",
    "    # name the aas added to cterm to CTR    \n",
    "    for c in cterm:\n",
    "        line = lines[c[0]+2]\n",
    "        mod_line = line.replace( c[1] , 'CTR', 1)\n",
    "        lines[c[0]+2] = mod_line\n",
    "        with open(file_xyz, 'w') as file:\n",
    "            for line in lines:\n",
    "                file.write(line)\n",
    "    # name the aas added to nterm to NTR               \n",
    "    for n in nterm:\n",
    "        line = lines[n[0]+2]\n",
    "        mod_line = line.replace(n[1] , 'NTR', 1)\n",
    "        lines[n[0]+2] = mod_line\n",
    "        with open(file_xyz, 'w') as file:\n",
    "            for line in lines:\n",
    "                file.write(line) \n",
    "    file.close()   \n"
   ]
  },
  {
   "cell_type": "markdown",
   "metadata": {},
   "source": [
    "### 3. Disulfate bond\n",
    "Find the disulfate bonds and thereafter rename them in the xyz file."
   ]
  },
  {
   "cell_type": "code",
   "execution_count": 5,
   "metadata": {},
   "outputs": [],
   "source": [
    "def SS_search(traj, file_xyz):\n",
    "    print(\"Searching cysteine involved in disulfide bonds ...\")\n",
    "    print('')\n",
    "    ### Search for ss bonds ###\n",
    "    SS_bonds = np.empty(0, dtype=int)\n",
    "    for b in traj.topology.bonds:\n",
    "        i = b[0].residue.index\n",
    "        j = b[1].residue.index\n",
    "        if (b[0].residue.name == 'CYS'):\n",
    "            if (b[1].residue.name == 'CYS'):\n",
    "                if i < traj.topology.n_residues:\n",
    "                    if j > i + 1:\n",
    "                        print('SS-bond between residues', i, j)\n",
    "                        SS_bonds = np.append(SS_bonds, [i+2,j+2], axis=0)\n",
    "    print('')\n",
    "    print('There are '+str(np.size(SS_bonds))+' amino acids involved in disulfide bonds.' )\n",
    "    print('Indexes of cysteines involved in disulfide bonds: '+str(SS_bonds))\n",
    "\n",
    "    ### Renaming CYS residues as CYX ###\n",
    "    print('Renaming residues involved in disulfide bonds ...')\n",
    "\n",
    "    fin = open(file_xyz, 'rt')\n",
    "    fout = open('file_out.xyz', 'wt')\n",
    "\n",
    "    for h,line in enumerate(fin):\n",
    "\n",
    "        if h in SS_bonds:\n",
    "            line = line.replace(\"CYS\", \"CYX\")\n",
    "        fout.write(line)  \n",
    "\n",
    "    fin.close()      \n",
    "    fout.close()\n",
    "    os.rename('file_out.xyz', file_xyz)\n",
    "    print('Done !!!')"
   ]
  },
  {
   "cell_type": "markdown",
   "metadata": {
    "tags": []
   },
   "source": [
    "## Script creating final CG xyz-file"
   ]
  },
  {
   "cell_type": "code",
   "execution_count": 8,
   "metadata": {},
   "outputs": [
    {
     "name": "stdout",
     "output_type": "stream",
     "text": [
      "/Users/isabelvinterbladh/Documents/YRI-Talk/YRI-Protein-Simulation/structures\n",
      "\n",
      "The pdb structure contains 786 atoms, 51 amino acids, and 2 chains!\n",
      "Coarse graining at amino acid level ...\n",
      "Done !!!\n",
      "The xyz-file has been created!\n",
      "Searching cysteine involved in disulfide bonds ...\n",
      "\n",
      "SS-bond between residues 5 10\n",
      "SS-bond between residues 6 27\n",
      "SS-bond between residues 19 39\n",
      "\n",
      "There are 6 amino acids involved in disulfide bonds.\n",
      "Indexes of cysteines involved in disulfide bonds: [ 7 12  8 29 21 41]\n",
      "Renaming residues involved in disulfide bonds ...\n",
      "Done !!!\n"
     ]
    }
   ],
   "source": [
    "def create_xyzfile(pdb, file_xyz, Duello, SS_bonds = False):\n",
    "    traj = md.load_pdb(pdb)\n",
    "    CGfunc(traj, file_xyz)\n",
    "    if Duello is False:\n",
    "        fix_terminals(traj, file_xyz)\n",
    "    if SS_bonds is True:\n",
    "        SS_search(traj, file_xyz)\n",
    "\n",
    "%cd $workdir/structures\n",
    "\n",
    "PDB = '2hiu.pdb'  ## Change to name of pdb file\n",
    "output_file = '2hiu.xyz' ## Change to desired output file name for the xyz-file\n",
    "\n",
    "### Run the script!\n",
    "# if SS-bonds present, add True to function input\n",
    "# if you want to create a xyz file for Duello, change Duello to True\n",
    "\n",
    "create_xyzfile(PDB, output_file, Duello = False, SS_bonds = True) "
   ]
  },
  {
   "cell_type": "code",
   "execution_count": null,
   "metadata": {},
   "outputs": [],
   "source": []
  }
 ],
 "metadata": {
  "anaconda-cloud": {},
  "kernelspec": {
   "display_name": "Python 3 (ipykernel)",
   "language": "python",
   "name": "python3"
  },
  "language_info": {
   "codemirror_mode": {
    "name": "ipython",
    "version": 3
   },
   "file_extension": ".py",
   "mimetype": "text/x-python",
   "name": "python",
   "nbconvert_exporter": "python",
   "pygments_lexer": "ipython3",
   "version": "3.11.3"
  }
 },
 "nbformat": 4,
 "nbformat_minor": 4
}
